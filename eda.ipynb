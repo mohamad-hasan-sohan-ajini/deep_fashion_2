{
 "cells": [
  {
   "cell_type": "code",
   "execution_count": 1,
   "metadata": {},
   "outputs": [],
   "source": [
    "import json\n",
    "from glob import glob\n",
    "from multiprocessing import Pool\n",
    "\n",
    "from tqdm import tqdm"
   ]
  },
  {
   "cell_type": "code",
   "execution_count": 2,
   "metadata": {},
   "outputs": [],
   "source": [
    "train_annos = '/data/DeepFashion2/train/annos/*.json'\n",
    "vlidation_annos = '/data/DeepFashion2/validation/annos/*.json'\n",
    "# test_annos = '/data/DeepFasion2/test/annos/*.json'"
   ]
  },
  {
   "cell_type": "code",
   "execution_count": 3,
   "metadata": {},
   "outputs": [],
   "source": [
    "def count_items(json_filepath: str) -> int:\n",
    "    with open(json_filepath) as f:\n",
    "        data = json.load(f)\n",
    "    num_items = len([item for item in data if item.startswith('item')])\n",
    "    return json_filepath, num_items\n",
    "\n",
    "\n",
    "def find_max_items(json_path):\n",
    "    json_files = glob(json_path)\n",
    "    max_items = 0\n",
    "    max_item_filepath = ''\n",
    "    with Pool(10) as p:\n",
    "        for filepath, num_items in tqdm(p.imap_unordered(count_items, json_files), total=len(json_files)):\n",
    "            if num_items > max_items:\n",
    "                max_items = num_items\n",
    "                max_item_filepath = filepath\n",
    "    return max_items, max_item_filepath"
   ]
  },
  {
   "cell_type": "code",
   "execution_count": 4,
   "metadata": {},
   "outputs": [
    {
     "name": "stderr",
     "output_type": "stream",
     "text": [
      "100%|██████████| 32153/32153 [00:00<00:00, 46457.64it/s]\n"
     ]
    },
    {
     "data": {
      "text/plain": [
       "(5, '/data/DeepFashion2/validation/annos/005592.json')"
      ]
     },
     "execution_count": 4,
     "metadata": {},
     "output_type": "execute_result"
    }
   ],
   "source": [
    "find_max_items(vlidation_annos)"
   ]
  },
  {
   "cell_type": "code",
   "execution_count": 5,
   "metadata": {},
   "outputs": [
    {
     "name": "stderr",
     "output_type": "stream",
     "text": [
      "100%|██████████| 191961/191961 [00:02<00:00, 66378.47it/s]\n"
     ]
    },
    {
     "data": {
      "text/plain": [
       "(8, '/data/DeepFashion2/train/annos/095484.json')"
      ]
     },
     "execution_count": 5,
     "metadata": {},
     "output_type": "execute_result"
    }
   ],
   "source": [
    "find_max_items(train_annos)"
   ]
  },
  {
   "cell_type": "code",
   "execution_count": null,
   "metadata": {},
   "outputs": [],
   "source": []
  }
 ],
 "metadata": {
  "kernelspec": {
   "display_name": "venv",
   "language": "python",
   "name": "python3"
  },
  "language_info": {
   "codemirror_mode": {
    "name": "ipython",
    "version": 3
   },
   "file_extension": ".py",
   "mimetype": "text/x-python",
   "name": "python",
   "nbconvert_exporter": "python",
   "pygments_lexer": "ipython3",
   "version": "3.11.3"
  },
  "orig_nbformat": 4
 },
 "nbformat": 4,
 "nbformat_minor": 2
}
