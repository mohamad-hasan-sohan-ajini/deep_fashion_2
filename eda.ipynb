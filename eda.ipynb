{
 "cells": [
  {
   "cell_type": "code",
   "execution_count": 1,
   "metadata": {},
   "outputs": [],
   "source": [
    "import json\n",
    "from glob import glob\n",
    "from multiprocessing import Pool\n",
    "\n",
    "import numpy as np\n",
    "from tqdm import tqdm"
   ]
  },
  {
   "cell_type": "code",
   "execution_count": 2,
   "metadata": {},
   "outputs": [],
   "source": [
    "train_annos = '/home/aj/data/DeepFashion2/train/annos/*.json'\n",
    "vlidation_annos = '/home/aj/data/DeepFashion2/validation/annos/*.json'\n",
    "# test_annos = '/data/DeepFasion2/test/annos/*.json'"
   ]
  },
  {
   "cell_type": "code",
   "execution_count": 3,
   "metadata": {},
   "outputs": [],
   "source": [
    "def count_items(json_filepath: str) -> int:\n",
    "    with open(json_filepath) as f:\n",
    "        data = json.load(f)\n",
    "    classes_info = [\n",
    "        (\n",
    "            data[item]['category_name'],\n",
    "            data[item]['category_id'],\n",
    "            int(len(data[item]['landmarks']) / 3),\n",
    "        )\n",
    "        for item\n",
    "        in data.keys()\n",
    "        if item.startswith('item')\n",
    "    ]\n",
    "    # num_items = len([item for item in data if item.startswith('item')])\n",
    "    return json_filepath, len(classes_info), classes_info\n",
    "\n",
    "\n",
    "def find_max_items(json_path):\n",
    "    json_files = glob(json_path)\n",
    "    max_items = 0\n",
    "    max_item_filepath = ''\n",
    "    classes_list = []\n",
    "    with Pool(10) as p:\n",
    "        for filepath, num_items, classes in tqdm(p.imap_unordered(count_items, json_files), total=len(json_files)):\n",
    "            classes_list.append(classes)\n",
    "            if num_items > max_items:\n",
    "                max_items = num_items\n",
    "                max_item_filepath = filepath\n",
    "    return max_items, max_item_filepath, classes_list"
   ]
  },
  {
   "cell_type": "code",
   "execution_count": 4,
   "metadata": {},
   "outputs": [
    {
     "name": "stderr",
     "output_type": "stream",
     "text": [
      "100%|██████████| 32153/32153 [00:03<00:00, 8703.55it/s]"
     ]
    },
    {
     "name": "stdout",
     "output_type": "stream",
     "text": [
      "max_items = 5\n",
      "max_item_filepath = '/home/aj/data/DeepFashion2/validation/annos/009750.json'\n"
     ]
    },
    {
     "name": "stderr",
     "output_type": "stream",
     "text": [
      "\n"
     ]
    }
   ],
   "source": [
    "max_items, max_item_filepath, classes_list = find_max_items(vlidation_annos)\n",
    "print(f'{max_items = }\\n{max_item_filepath = }')"
   ]
  },
  {
   "cell_type": "code",
   "execution_count": 5,
   "metadata": {},
   "outputs": [
    {
     "name": "stderr",
     "output_type": "stream",
     "text": [
      "100%|██████████| 191961/191961 [00:11<00:00, 16399.25it/s]"
     ]
    },
    {
     "name": "stdout",
     "output_type": "stream",
     "text": [
      "max_items = 8\n",
      "max_item_filepath = '/home/aj/data/DeepFashion2/train/annos/095484.json'\n"
     ]
    },
    {
     "name": "stderr",
     "output_type": "stream",
     "text": [
      "\n"
     ]
    }
   ],
   "source": [
    "max_items, max_item_filepath, classes_list = find_max_items(train_annos)\n",
    "print(f'{max_items = }\\n{max_item_filepath = }')"
   ]
  },
  {
   "cell_type": "code",
   "execution_count": 6,
   "metadata": {},
   "outputs": [
    {
     "name": "stderr",
     "output_type": "stream",
     "text": [
      "100%|██████████| 191961/191961 [00:00<00:00, 1564973.34it/s]\n"
     ]
    }
   ],
   "source": [
    "tmp = set()\n",
    "for class_list in tqdm(classes_list):\n",
    "    for class_ in class_list:\n",
    "        tmp.add(class_)"
   ]
  },
  {
   "cell_type": "code",
   "execution_count": 7,
   "metadata": {},
   "outputs": [
    {
     "data": {
      "text/plain": [
       "[('short sleeve top', 1, 25),\n",
       " ('long sleeve top', 2, 33),\n",
       " ('short sleeve outwear', 3, 31),\n",
       " ('long sleeve outwear', 4, 39),\n",
       " ('vest', 5, 15),\n",
       " ('sling', 6, 15),\n",
       " ('shorts', 7, 10),\n",
       " ('trousers', 8, 14),\n",
       " ('skirt', 9, 8),\n",
       " ('short sleeve dress', 10, 29),\n",
       " ('long sleeve dress', 11, 37),\n",
       " ('vest dress', 12, 19),\n",
       " ('sling dress', 13, 19)]"
      ]
     },
     "execution_count": 7,
     "metadata": {},
     "output_type": "execute_result"
    }
   ],
   "source": [
    "sorted(list(tmp), key=lambda x: x[1])"
   ]
  },
  {
   "cell_type": "code",
   "execution_count": 8,
   "metadata": {},
   "outputs": [
    {
     "data": {
      "text/plain": [
       "array([ 25,  58,  89, 128, 143, 158, 168, 182, 190, 219, 256, 275, 294])"
      ]
     },
     "execution_count": 8,
     "metadata": {},
     "output_type": "execute_result"
    }
   ],
   "source": [
    "np.cumsum([i[2] for i in sorted(list(tmp), key=lambda x: x[1])]).astype(np.int64)"
   ]
  },
  {
   "cell_type": "code",
   "execution_count": null,
   "metadata": {},
   "outputs": [],
   "source": []
  },
  {
   "cell_type": "code",
   "execution_count": null,
   "metadata": {},
   "outputs": [],
   "source": []
  }
 ],
 "metadata": {
  "kernelspec": {
   "display_name": "venv",
   "language": "python",
   "name": "python3"
  },
  "language_info": {
   "codemirror_mode": {
    "name": "ipython",
    "version": 3
   },
   "file_extension": ".py",
   "mimetype": "text/x-python",
   "name": "python",
   "nbconvert_exporter": "python",
   "pygments_lexer": "ipython3",
   "version": "3.11.3"
  },
  "orig_nbformat": 4
 },
 "nbformat": 4,
 "nbformat_minor": 2
}
